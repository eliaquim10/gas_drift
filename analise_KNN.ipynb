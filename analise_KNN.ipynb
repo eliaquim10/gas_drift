{
 "cells": [
  {
   "cell_type": "markdown",
   "metadata": {},
   "source": [
    "# Analise de dados de Concentração de gás"
   ]
  },
  {
   "cell_type": "code",
   "execution_count": 39,
   "metadata": {},
   "outputs": [],
   "source": [
    "import pandas as pd\n",
    "import numpy as np\n",
    "import matplotlib.pyplot as plt\n",
    "import seaborn as sns\n",
    "from mlxtend.plotting import plot_decision_regions\n",
    "\n",
    "# Classes dos modelo\n",
    "#from sklearn.linear_model import LogisticRegression, LinearRegression\n",
    "# Classes do modelo\n",
    "from sklearn.neighbors import KNeighborsClassifier\n",
    "\n",
    "# Funções de avaliação dos modelos\n",
    "from sklearn.metrics import classification_report\n",
    "from sklearn.model_selection import train_test_split\n",
    "# sns.set_theme(style=\"whitegrid\")"
   ]
  },
  {
   "cell_type": "markdown",
   "metadata": {},
   "source": [
    "### Carregando o dataset"
   ]
  },
  {
   "cell_type": "code",
   "execution_count": 40,
   "metadata": {},
   "outputs": [],
   "source": [
    "dataset = pd.read_csv(\"CONCENTRAÇAO_GAS.csv\")\n",
    "#dataset.head(5)\n",
    "\n"
   ]
  },
  {
   "cell_type": "code",
   "execution_count": 41,
   "metadata": {},
   "outputs": [],
   "source": [
    "# normalizando o dataset:\n",
    "X = dataset.drop([\"Class\"], axis=1)\n",
    "X_norm = (X - X.min())/ ( X.max() - X.min()) \n",
    "X_norm.head()\n",
    "y = dataset[\"Class\"].copy() # copia a coluna de classes\n"
   ]
  },
  {
   "cell_type": "markdown",
   "metadata": {},
   "source": [
    "## Treinamento do modelo KNN"
   ]
  },
  {
   "cell_type": "code",
   "execution_count": 42,
   "metadata": {},
   "outputs": [
    {
     "name": "stdout",
     "output_type": "stream",
     "text": [
      "              precision    recall  f1-score   support\n",
      "\n",
      "           1       0.99      0.99      0.99       779\n",
      "           2       1.00      0.99      1.00       881\n",
      "           3       1.00      1.00      1.00       530\n",
      "           4       1.00      0.99      0.99       581\n",
      "           5       0.99      0.99      0.99       917\n",
      "           6       0.97      1.00      0.98       485\n",
      "\n",
      "    accuracy                           0.99      4173\n",
      "   macro avg       0.99      0.99      0.99      4173\n",
      "weighted avg       0.99      0.99      0.99      4173\n",
      "\n"
     ]
    }
   ],
   "source": [
    "\n",
    "X_train, X_test, y_train, y_test = train_test_split(X_norm.values, y.values, test_size=0.30, random_state=199)\n",
    "\n",
    "# vamos criar um classificador kNN:\n",
    "model_knn = KNeighborsClassifier(n_neighbors=7)\n",
    "model_knn.fit(X_train, y_train)\n",
    "\n",
    "# e ver a sua performance no dataset de teste\n",
    "print(classification_report(y_test, model_knn.predict(X_test)))\n",
    "\n",
    "\n"
   ]
  },
  {
   "cell_type": "code",
   "execution_count": 43,
   "metadata": {},
   "outputs": [
    {
     "data": {
      "text/plain": [
       "<sklearn.metrics._plot.confusion_matrix.ConfusionMatrixDisplay at 0x256800784f0>"
      ]
     },
     "execution_count": 43,
     "metadata": {},
     "output_type": "execute_result"
    },
    {
     "data": {
      "image/png": "[encoded data removed]",
      "text/plain": [
       "<Figure size 432x288 with 2 Axes>"
      ]
     },
     "metadata": {
      "needs_background": "light"
     },
     "output_type": "display_data"
    }
   ],
   "source": [
    "# MATRIZ CONFUSÃO: retorna uma matriz com a contagem de como cada uma das classes está sendo classificada corretamente ou erroneamente\n",
    "from sklearn.metrics import confusion_matrix, plot_confusion_matrix\n",
    "\n",
    "plot_confusion_matrix(model_knn, X_test, y_test)"
   ]
  },
  {
   "cell_type": "code",
   "execution_count": 44,
   "metadata": {},
   "outputs": [],
   "source": [
    "# curva roc:\n",
    "from itertools import cycle\n",
    "\n",
    "from sklearn import svm, datasets\n",
    "from sklearn.metrics import roc_curve, auc\n",
    "from sklearn.model_selection import train_test_split\n",
    "from sklearn.preprocessing import label_binarize\n",
    "#from sklearn.multiclass import OneVsRestClassifier\n",
    "from sklearn.metrics import roc_auc_score\n",
    "\n",
    "\n",
    "\n",
    "\n",
    "    \n"
   ]
  },
  {
   "cell_type": "markdown",
   "metadata": {},
   "source": [
    "# VALIDAÇÃO DO MODELO:"
   ]
  },
  {
   "cell_type": "code",
   "execution_count": 45,
   "metadata": {},
   "outputs": [
    {
     "name": "stdout",
     "output_type": "stream",
     "text": [
      "Proporções por classe no dataset em geral:\n",
      "Classe 0: 18.44%\n",
      "Classe 1: 21.04%\n",
      "Classe 2: 11.80%\n",
      "Classe 3: 13.92%\n",
      "Classe 4: 21.63%\n",
      "Classe 5: 13.18%\n",
      "\n",
      "\n",
      "Proporções por classe no dataset de treino sem estratificação:\n",
      "Classe 0: 18.34%\n",
      "Classe 1: 21.00%\n",
      "Classe 2: 11.41%\n",
      "Classe 3: 13.92%\n",
      "Classe 4: 21.49%\n",
      "Classe 5: 13.84%\n",
      "\n",
      "\n",
      "Proporções por classe no dataset de treino com estratificação:\n",
      "Classe 0: 18.45%\n",
      "Classe 1: 21.03%\n",
      "Classe 2: 11.80%\n",
      "Classe 3: 13.92%\n",
      "Classe 4: 21.63%\n",
      "Classe 5: 13.18%\n"
     ]
    }
   ],
   "source": [
    "#na função _train_testsplit é o stratify. Ele controla se a proporção das classes no dataset de treino e \n",
    "# teste deve ser mantida e tenta selecionar as instâncias que estão faltando para se aproximar da distribuição original.\n",
    "\n",
    "\n",
    "def print_distribution(arr, print_nl=True):\n",
    "    arr = np.unique(arr, return_counts=True)[1] / arr.count()\n",
    "    for i in range(arr.shape[0]):\n",
    "        print(\"Classe %d: %.2f%%\" %(i, arr[i]*100))\n",
    "\n",
    "    if print_nl:\n",
    "        print(\"\\n\")\n",
    "\n",
    "_, _, y_train, _ = train_test_split(X_norm, y, test_size=0.3, random_state=199)\n",
    "_, _, y_train_strat, _ = train_test_split(X_norm, y, test_size=0.3, random_state=199, stratify=y)\n",
    "\n",
    "print(\"Proporções por classe no dataset em geral:\")\n",
    "print_distribution(y)\n",
    "\n",
    "print(\"Proporções por classe no dataset de treino sem estratificação:\")\n",
    "print_distribution(y_train)\n",
    "\n",
    "print(\"Proporções por classe no dataset de treino com estratificação:\")\n",
    "print_distribution(y_train_strat, print_nl=False)"
   ]
  },
  {
   "cell_type": "code",
   "execution_count": 50,
   "metadata": {},
   "outputs": [
    {
     "name": "stdout",
     "output_type": "stream",
     "text": [
      "Proporções por classe no dataset em geral:\n",
      "Classe 0: 18.44%\n",
      "Classe 1: 21.04%\n",
      "Classe 2: 11.80%\n",
      "Classe 3: 13.92%\n",
      "Classe 4: 21.63%\n",
      "Classe 5: 13.18%\n",
      "\n",
      "\n",
      "Fold 0\n",
      "Classe 0: 18.44%\n",
      "Classe 1: 21.03%\n",
      "Classe 2: 11.80%\n",
      "Classe 3: 13.91%\n",
      "Classe 4: 21.64%\n",
      "Classe 5: 13.18%\n",
      "\n",
      "\n",
      "Fold 1\n",
      "Classe 0: 18.44%\n",
      "Classe 1: 21.03%\n",
      "Classe 2: 11.80%\n",
      "Classe 3: 13.91%\n",
      "Classe 4: 21.63%\n",
      "Classe 5: 13.18%\n",
      "\n",
      "\n",
      "Fold 2\n",
      "Classe 0: 18.44%\n",
      "Classe 1: 21.03%\n",
      "Classe 2: 11.80%\n",
      "Classe 3: 13.91%\n",
      "Classe 4: 21.63%\n",
      "Classe 5: 13.18%\n",
      "Fold 3\n",
      "Classe 0: 18.44%\n",
      "Classe 1: 21.03%\n",
      "Classe 2: 11.80%\n",
      "Classe 3: 13.91%\n",
      "Classe 4: 21.63%\n",
      "Classe 5: 13.18%\n",
      "\n",
      "\n",
      "Fold 4\n",
      "Classe 0: 18.44%\n",
      "Classe 1: 21.03%\n",
      "Classe 2: 11.80%\n",
      "Classe 3: 13.91%\n",
      "Classe 4: 21.63%\n",
      "Classe 5: 13.18%\n",
      "\n",
      "\n",
      "Fold 5\n",
      "Classe 0: 18.44%\n",
      "Classe 1: 21.03%\n",
      "Classe 2: 11.80%\n",
      "Classe 3: 13.91%\n",
      "Classe 4: 21.63%\n",
      "Classe 5: 13.18%\n",
      "\n",
      "\n",
      "Fold 6\n",
      "Classe 0: 18.44%\n",
      "Classe 1: 21.04%\n",
      "Classe 2: 11.79%\n",
      "Classe 3: 13.92%\n",
      "Classe 4: 21.63%\n",
      "Classe 5: 13.18%\n",
      "\n",
      "\n",
      "Fold 7\n",
      "Classe 0: 18.44%\n",
      "Classe 1: 21.04%\n",
      "Classe 2: 11.80%\n",
      "Classe 3: 13.92%\n",
      "Classe 4: 21.63%\n",
      "Classe 5: 13.17%\n",
      "\n",
      "\n",
      "Fold 8\n",
      "Classe 0: 18.44%\n",
      "Classe 1: 21.04%\n",
      "Classe 2: 11.80%\n",
      "Classe 3: 13.92%\n",
      "Classe 4: 21.63%\n",
      "Classe 5: 13.17%\n",
      "\n",
      "\n",
      "Fold 9\n",
      "Classe 0: 18.44%\n",
      "Classe 1: 21.04%\n",
      "Classe 2: 11.80%\n",
      "Classe 3: 13.92%\n",
      "Classe 4: 21.63%\n",
      "Classe 5: 13.17%\n",
      "\n",
      "\n"
     ]
    }
   ],
   "source": [
    "from sklearn.model_selection import StratifiedKFold\n",
    "\n",
    "print(\"Proporções por classe no dataset em geral:\")\n",
    "print_distribution(y)\n",
    "\n",
    "kf = StratifiedKFold(n_splits=10, shuffle=True, random_state=199)\n",
    "fold = 0\n",
    "for train, test in kf.split(X, y):\n",
    "    print(\"Fold %d\" %(fold))\n",
    "    print_distribution(y[train], print_nl=(fold != 2))\n",
    "    fold += 1"
   ]
  },
  {
   "cell_type": "code",
   "execution_count": 51,
   "metadata": {},
   "outputs": [
    {
     "name": "stdout",
     "output_type": "stream",
     "text": [
      "Acurácia média (desvio): 0.9926 +- (0.0000)\n"
     ]
    }
   ],
   "source": [
    "from sklearn.model_selection import StratifiedKFold\n",
    "\n",
    "evaluate_model_with_kfold(StratifiedKFold(n_splits=10, shuffle=True, random_state=199))"
   ]
  }
 ],
 "metadata": {
  "interpreter": {
   "hash": "d5f6ca866bada2297d8fd83be4f6138ccbd7745b9651ccd132432817d094bcf3"
  },
  "kernelspec": {
   "display_name": "Python 3.8.8 64-bit ('base': conda)",
   "language": "python",
   "name": "python3"
  },
  "language_info": {
   "codemirror_mode": {
    "name": "ipython",
    "version": 3
   },
   "file_extension": ".py",
   "mimetype": "text/x-python",
   "name": "python",
   "nbconvert_exporter": "python",
   "pygments_lexer": "ipython3",
   "version": "3.8.8"
  },
  "orig_nbformat": 4
 },
 "nbformat": 4,
 "nbformat_minor": 2
}
